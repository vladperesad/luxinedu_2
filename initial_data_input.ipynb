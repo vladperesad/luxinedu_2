{
 "cells": [
  {
   "cell_type": "code",
   "execution_count": 1,
   "id": "f6607aee-903e-419a-b591-3333346b846b",
   "metadata": {},
   "outputs": [],
   "source": [
    "import clickhouse_connect\n",
    "import json\n",
    "import pandas as pd"
   ]
  },
  {
   "cell_type": "code",
   "execution_count": 2,
   "id": "930b08e3-01c4-4248-809f-3e4d421569d7",
   "metadata": {},
   "outputs": [],
   "source": [
    "bks = pd.read_excel('/home/jupyter-vladperesad/files/books.xlsx')"
   ]
  },
  {
   "cell_type": "code",
   "execution_count": 28,
   "id": "6165ed6e-5b0c-4c5a-807b-b02534ec52d6",
   "metadata": {
    "scrolled": true
   },
   "outputs": [
    {
     "data": {
      "text/plain": [
       "book_id       int64\n",
       "book_name    object\n",
       "dtype: object"
      ]
     },
     "execution_count": 28,
     "metadata": {},
     "output_type": "execute_result"
    }
   ],
   "source": [
    "bks.dtypes"
   ]
  },
  {
   "cell_type": "code",
   "execution_count": 4,
   "id": "60e96639-25da-426b-888a-ba3dc637fcb5",
   "metadata": {
    "scrolled": true
   },
   "outputs": [],
   "source": [
    "with open('/home/jupyter-vladperesad/keys/clickhouse_connect_key.json') as src:\n",
    "    data = json.load(src)"
   ]
  },
  {
   "cell_type": "code",
   "execution_count": 5,
   "id": "a241e432-26ef-4a4f-a6a8-9394c7eb954a",
   "metadata": {},
   "outputs": [],
   "source": [
    "client = clickhouse_connect.get_client(host=data['host'],\n",
    "                                       port=8443,\n",
    "                                       username=data['user'],\n",
    "                                       password=data['password'])"
   ]
  },
  {
   "cell_type": "code",
   "execution_count": 6,
   "id": "d2ede485-9318-488c-9ac5-dde244bf73f7",
   "metadata": {},
   "outputs": [
    {
     "data": {
      "text/plain": [
       "<clickhouse_connect.driver.summary.QuerySummary at 0x7f9cb5f8f9d0>"
      ]
     },
     "execution_count": 6,
     "metadata": {},
     "output_type": "execute_result"
    }
   ],
   "source": [
    "client.insert_df('luxinedu_2.books', bks)"
   ]
  },
  {
   "cell_type": "code",
   "execution_count": 7,
   "id": "bbb43836-e378-4bd0-9353-de7b8c8364e6",
   "metadata": {},
   "outputs": [],
   "source": [
    "grps = pd.read_excel('/home/jupyter-vladperesad/files/groups.xlsx')"
   ]
  },
  {
   "cell_type": "code",
   "execution_count": 27,
   "id": "99f2ae0c-bbc3-49c3-9c65-79b3380ed330",
   "metadata": {
    "scrolled": true
   },
   "outputs": [
    {
     "data": {
      "text/plain": [
       "group_id       int64\n",
       "group_name    object\n",
       "ta_id          int64\n",
       "book_id        int64\n",
       "dtype: object"
      ]
     },
     "execution_count": 27,
     "metadata": {},
     "output_type": "execute_result"
    }
   ],
   "source": [
    "grps.dtypes"
   ]
  },
  {
   "cell_type": "code",
   "execution_count": 14,
   "id": "6d531b0e-0f88-482e-8b78-65dea25422c9",
   "metadata": {},
   "outputs": [
    {
     "data": {
      "text/plain": [
       "<clickhouse_connect.driver.summary.QuerySummary at 0x7f9cb49e3c10>"
      ]
     },
     "execution_count": 14,
     "metadata": {},
     "output_type": "execute_result"
    }
   ],
   "source": [
    "client.insert_df('luxinedu_2.groups', grps)"
   ]
  },
  {
   "cell_type": "code",
   "execution_count": 17,
   "id": "eab2c40e-91b7-42fd-9bdb-3e6b2b1c87de",
   "metadata": {},
   "outputs": [],
   "source": [
    "std = pd.read_excel('/home/jupyter-vladperesad/files/students.xlsx')"
   ]
  },
  {
   "cell_type": "code",
   "execution_count": 26,
   "id": "c9dfd501-59cc-4542-bf06-609719583707",
   "metadata": {
    "scrolled": true
   },
   "outputs": [
    {
     "data": {
      "text/plain": [
       "student_id       int64\n",
       "student_name    object\n",
       "ta_id            int64\n",
       "group_id         int64\n",
       "dtype: object"
      ]
     },
     "execution_count": 26,
     "metadata": {},
     "output_type": "execute_result"
    }
   ],
   "source": [
    "std.dtypes"
   ]
  },
  {
   "cell_type": "code",
   "execution_count": 21,
   "id": "cb045d88-29f9-4cc0-8ccf-959f67183751",
   "metadata": {},
   "outputs": [
    {
     "data": {
      "text/plain": [
       "<clickhouse_connect.driver.summary.QuerySummary at 0x7f9cb4a1ca90>"
      ]
     },
     "execution_count": 21,
     "metadata": {},
     "output_type": "execute_result"
    }
   ],
   "source": [
    "client.insert_df('luxinedu_2.students', std)"
   ]
  },
  {
   "cell_type": "code",
   "execution_count": 22,
   "id": "70cc5284-00b7-4198-9ac8-4962e4068217",
   "metadata": {},
   "outputs": [],
   "source": [
    "tas = pd.read_excel('/home/jupyter-vladperesad/files/teaching_advisors.xlsx')"
   ]
  },
  {
   "cell_type": "code",
   "execution_count": 24,
   "id": "41ea20b8-87a1-482d-9144-325d18e6292c",
   "metadata": {},
   "outputs": [
    {
     "data": {
      "text/plain": [
       "ta_id       int64\n",
       "ta_name    object\n",
       "dtype: object"
      ]
     },
     "execution_count": 24,
     "metadata": {},
     "output_type": "execute_result"
    }
   ],
   "source": [
    "tas.dtypes"
   ]
  },
  {
   "cell_type": "code",
   "execution_count": 25,
   "id": "939b8719-e250-4bc2-b31e-1ed670bb5797",
   "metadata": {},
   "outputs": [
    {
     "data": {
      "text/plain": [
       "<clickhouse_connect.driver.summary.QuerySummary at 0x7f9cb31015a0>"
      ]
     },
     "execution_count": 25,
     "metadata": {},
     "output_type": "execute_result"
    }
   ],
   "source": [
    "client.insert_df('luxinedu_2.teaching_advisors', tas)"
   ]
  },
  {
   "cell_type": "markdown",
   "id": "06b1b456-d146-4110-af32-aadc6f986979",
   "metadata": {},
   "source": [
    "---"
   ]
  }
 ],
 "metadata": {
  "kernelspec": {
   "display_name": "Python 3 (ipykernel)",
   "language": "python",
   "name": "python3"
  },
  "language_info": {
   "codemirror_mode": {
    "name": "ipython",
    "version": 3
   },
   "file_extension": ".py",
   "mimetype": "text/x-python",
   "name": "python",
   "nbconvert_exporter": "python",
   "pygments_lexer": "ipython3",
   "version": "3.10.10"
  }
 },
 "nbformat": 4,
 "nbformat_minor": 5
}
