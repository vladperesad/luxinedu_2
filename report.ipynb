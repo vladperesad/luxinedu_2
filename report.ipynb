{
 "cells": [
  {
   "cell_type": "code",
   "execution_count": 1,
   "id": "bad1679c-6331-4128-ab81-7659edfc76e6",
   "metadata": {},
   "outputs": [],
   "source": [
    "import pandas as pd\n",
    "import numpy as np\n",
    "import json\n",
    "from urllib.parse import urlencode\n",
    "import requests\n",
    "import clickhouse_connect"
   ]
  },
  {
   "cell_type": "code",
   "execution_count": 2,
   "id": "60e96639-25da-426b-888a-ba3dc637fcb5",
   "metadata": {
    "scrolled": true
   },
   "outputs": [],
   "source": [
    "with open('/home/jupyter-vladperesad/keys/clickhouse_connect_key.json') as src:\n",
    "    data = json.load(src)"
   ]
  },
  {
   "cell_type": "code",
   "execution_count": 3,
   "id": "a241e432-26ef-4a4f-a6a8-9394c7eb954a",
   "metadata": {},
   "outputs": [],
   "source": [
    "client = clickhouse_connect.get_client(host=data['host'],\n",
    "                                       port=8443,\n",
    "                                       username=data['user'],\n",
    "                                       password=data['password'])"
   ]
  },
  {
   "cell_type": "code",
   "execution_count": 4,
   "id": "4dbe1552-1e69-4f89-b17b-8c02323d95a9",
   "metadata": {},
   "outputs": [],
   "source": [
    "df_14 = client.query_df('''\n",
    "SELECT\n",
    "     at.student_id AS student_id,\n",
    "     st.student_name AS student_name,\n",
    "     gr.group_name as group_name,\n",
    "     date,\n",
    "     homework,\n",
    "     behaviour,\n",
    "     comprehension,\n",
    "     vocabulary,\n",
    "     speaking,\n",
    "     reading,\n",
    "     writing\n",
    "FROM\n",
    "    luxinedu_2.attendance AS at \n",
    "JOIN luxinedu_2.students AS st ON at.student_id=st.student_id\n",
    "JOIN luxinedu_2.groups AS gr ON st.group_id=gr.group_id\n",
    "WHERE date > now() - INTERVAL 14 DAY AND gr.group_id = 1\n",
    "ORDER BY \n",
    "at.student_id,\n",
    "date\n",
    "''')"
   ]
  },
  {
   "cell_type": "code",
   "execution_count": 5,
   "id": "d5897f89-f4fa-44ba-9179-56fbac9bfc12",
   "metadata": {},
   "outputs": [],
   "source": [
    "#create a subset that only contains student_ids\n",
    "df_st = df_14['student_id']"
   ]
  },
  {
   "cell_type": "code",
   "execution_count": 6,
   "id": "c6b219bd-7398-4143-bbb4-1605e2e268cc",
   "metadata": {},
   "outputs": [],
   "source": [
    "#calculate percent difference in students performance beween most recent class and the class before that\n",
    "df_pct = df_14 \\\n",
    "    .drop(columns=['student_name',\n",
    "                    'group_name',\n",
    "                    'date']) \\\n",
    "    .groupby('student_id') \\\n",
    "    .pct_change(fill_method=None)*100"
   ]
  },
  {
   "cell_type": "code",
   "execution_count": 7,
   "id": "959a74dd-ceb7-46d4-a74f-181beb95b750",
   "metadata": {},
   "outputs": [],
   "source": [
    "df_pct = df_pct \\\n",
    "    .round(1) \\\n",
    "    .dropna(axis=0,\n",
    "            how='all') \\\n",
    "    .join(df_st,\n",
    "          how='inner')"
   ]
  },
  {
   "cell_type": "code",
   "execution_count": 8,
   "id": "93801d9a-d144-4901-b1da-5f93a4756314",
   "metadata": {},
   "outputs": [],
   "source": [
    "df_7 = client.query_df('''\n",
    "SELECT\n",
    "     at.student_id AS student_id,\n",
    "     st.student_name AS student_name,\n",
    "     gr.group_name as group_name,\n",
    "     dabte,\n",
    "     homework,\n",
    "     behaviour,\n",
    "     comprehension,\n",
    "     vocabulary,\n",
    "     speaking,\n",
    "     reading,\n",
    "     writing\n",
    "FROM\n",
    "    luxinedu_2.attendance AS at \n",
    "JOIN luxinedu_2.students AS st ON at.student_id=st.student_id\n",
    "JOIN luxinedu_2.groups AS gr ON st.group_id=gr.group_id\n",
    "WHERE date > now() - INTERVAL 7 DAY AND gr.group_id = 1\n",
    "ORDER BY \n",
    "at.student_id,\n",
    "date\n",
    "''')"
   ]
  },
  {
   "cell_type": "code",
   "execution_count": 25,
   "id": "04af2a37-17a5-418f-bbdb-7c8602f0b99e",
   "metadata": {},
   "outputs": [],
   "source": [
    "df_7['date'] = df_7['date'].dt.date"
   ]
  },
  {
   "cell_type": "code",
   "execution_count": 26,
   "id": "b4b5e005-79e3-4b13-9659-780c808e286e",
   "metadata": {},
   "outputs": [
    {
     "data": {
      "text/html": [
       "<div>\n",
       "<style scoped>\n",
       "    .dataframe tbody tr th:only-of-type {\n",
       "        vertical-align: middle;\n",
       "    }\n",
       "\n",
       "    .dataframe tbody tr th {\n",
       "        vertical-align: top;\n",
       "    }\n",
       "\n",
       "    .dataframe thead th {\n",
       "        text-align: right;\n",
       "    }\n",
       "</style>\n",
       "<table border=\"1\" class=\"dataframe\">\n",
       "  <thead>\n",
       "    <tr style=\"text-align: right;\">\n",
       "      <th></th>\n",
       "      <th>student_id</th>\n",
       "      <th>student_name</th>\n",
       "      <th>group_name</th>\n",
       "      <th>date</th>\n",
       "      <th>homework</th>\n",
       "      <th>behaviour</th>\n",
       "      <th>comprehension</th>\n",
       "      <th>vocabulary</th>\n",
       "      <th>speaking</th>\n",
       "      <th>reading</th>\n",
       "      <th>writing</th>\n",
       "    </tr>\n",
       "  </thead>\n",
       "  <tbody>\n",
       "    <tr>\n",
       "      <th>0</th>\n",
       "      <td>1</td>\n",
       "      <td>Ethan</td>\n",
       "      <td>wed1905</td>\n",
       "      <td>2024-03-06</td>\n",
       "      <td>1</td>\n",
       "      <td>5</td>\n",
       "      <td>4</td>\n",
       "      <td>3</td>\n",
       "      <td>2</td>\n",
       "      <td>4</td>\n",
       "      <td>1</td>\n",
       "    </tr>\n",
       "    <tr>\n",
       "      <th>1</th>\n",
       "      <td>2</td>\n",
       "      <td>Dora</td>\n",
       "      <td>wed1905</td>\n",
       "      <td>2024-03-06</td>\n",
       "      <td>5</td>\n",
       "      <td>5</td>\n",
       "      <td>5</td>\n",
       "      <td>5</td>\n",
       "      <td>5</td>\n",
       "      <td>5</td>\n",
       "      <td>3</td>\n",
       "    </tr>\n",
       "    <tr>\n",
       "      <th>2</th>\n",
       "      <td>3</td>\n",
       "      <td>Eleven</td>\n",
       "      <td>wed1905</td>\n",
       "      <td>2024-03-06</td>\n",
       "      <td>5</td>\n",
       "      <td>5</td>\n",
       "      <td>5</td>\n",
       "      <td>5</td>\n",
       "      <td>3</td>\n",
       "      <td>5</td>\n",
       "      <td>3</td>\n",
       "    </tr>\n",
       "    <tr>\n",
       "      <th>3</th>\n",
       "      <td>36</td>\n",
       "      <td>Eason</td>\n",
       "      <td>wed1905</td>\n",
       "      <td>2024-03-06</td>\n",
       "      <td>1</td>\n",
       "      <td>5</td>\n",
       "      <td>4</td>\n",
       "      <td>3</td>\n",
       "      <td>4</td>\n",
       "      <td>5</td>\n",
       "      <td>3</td>\n",
       "    </tr>\n",
       "    <tr>\n",
       "      <th>4</th>\n",
       "      <td>42</td>\n",
       "      <td>Alex</td>\n",
       "      <td>wed1905</td>\n",
       "      <td>2024-03-06</td>\n",
       "      <td>&lt;NA&gt;</td>\n",
       "      <td>3</td>\n",
       "      <td>3</td>\n",
       "      <td>1</td>\n",
       "      <td>1</td>\n",
       "      <td>1</td>\n",
       "      <td>1</td>\n",
       "    </tr>\n",
       "  </tbody>\n",
       "</table>\n",
       "</div>"
      ],
      "text/plain": [
       "   student_id student_name group_name        date  homework  behaviour  \\\n",
       "0           1        Ethan    wed1905  2024-03-06         1          5   \n",
       "1           2         Dora    wed1905  2024-03-06         5          5   \n",
       "2           3       Eleven    wed1905  2024-03-06         5          5   \n",
       "3          36        Eason    wed1905  2024-03-06         1          5   \n",
       "4          42         Alex    wed1905  2024-03-06      <NA>          3   \n",
       "\n",
       "   comprehension  vocabulary  speaking  reading  writing  \n",
       "0              4           3         2        4        1  \n",
       "1              5           5         5        5        3  \n",
       "2              5           5         3        5        3  \n",
       "3              4           3         4        5        3  \n",
       "4              3           1         1        1        1  "
      ]
     },
     "execution_count": 26,
     "metadata": {},
     "output_type": "execute_result"
    }
   ],
   "source": [
    "df_7"
   ]
  },
  {
   "cell_type": "code",
   "execution_count": 27,
   "id": "0374a7f9-8e77-4ab2-851f-b59b63402c78",
   "metadata": {
    "scrolled": true
   },
   "outputs": [],
   "source": [
    "final_table = df_7 \\\n",
    "    .merge(df_pct,\n",
    "           how='left',\n",
    "           on='student_id',\n",
    "           suffixes=('_act','_pct'))"
   ]
  },
  {
   "cell_type": "code",
   "execution_count": 22,
   "id": "f3f8ae82",
   "metadata": {},
   "outputs": [],
   "source": [
    "#in order to keep the token hidden it was saved in JSON file and can be read from it:\n",
    "with open('/home/jupyter-vladperesad/keys/token_wed1905.json') as src:\n",
    "    data = json.load(src)"
   ]
  },
  {
   "cell_type": "code",
   "execution_count": 23,
   "id": "f3421fb4",
   "metadata": {},
   "outputs": [],
   "source": [
    "token = data['token']\n",
    "chat_id = data['chat_id']"
   ]
  },
  {
   "cell_type": "code",
   "execution_count": 28,
   "id": "0b16b31e-47d9-4cf7-837a-20931a94a18e",
   "metadata": {},
   "outputs": [],
   "source": [
    "for index, row in final_table.iterrows():\n",
    "    date = row['date']\n",
    "    student_name = row['student_name']\n",
    "    homework_a = row['homework_act']\n",
    "    homework_p = row['homework_pct']\n",
    "    behaviour_a = row['behaviour_act']\n",
    "    behaviour_p = row['behaviour_pct']\n",
    "    comprehension_a = row['comprehension_act']\n",
    "    comprehension_p = row['comprehension_pct']\n",
    "    vocabulary_a = row['vocabulary_act']\n",
    "    vocabulary_p = row['vocabulary_pct']\n",
    "    speaking_a = row['speaking_act']\n",
    "    speaking_p = row['speaking_pct']\n",
    "    reading_a = row['reading_act']\n",
    "    reading_p = row['reading_pct']\n",
    "    writing_a = row['writing_act']\n",
    "    writing_p = row['writing_pct']\n",
    "        \n",
    "    message = f''' Report on the class on {date}\n",
    "    Student : {student_name}\n",
    "    Homework: {homework_a} ({homework_p}%)\n",
    "    Behaviour: {behaviour_a} ({behaviour_p}%)\n",
    "    Comprehension: {comprehension_a} ({comprehension_p}%)\n",
    "    Vocabulary: {vocabulary_a} ({vocabulary_p}%)\n",
    "    Speaking: {speaking_a} ({speaking_p}%)\n",
    "    Reading: {reading_a} ({reading_p}%)\n",
    "    Writing: {writing_a} ({writing_p}%)'''\n",
    "\n",
    "    message = message\n",
    "    params = {'chat_id': chat_id,\n",
    "              'text': message}\n",
    "    base_url = f'https://api.telegram.org/bot{token}/'\n",
    "    url = base_url + 'sendMessage?' + urlencode(params)\n",
    "    resp = requests.get(url)"
   ]
  }
 ],
 "metadata": {
  "kernelspec": {
   "display_name": "Python 3 (ipykernel)",
   "language": "python",
   "name": "python3"
  },
  "language_info": {
   "codemirror_mode": {
    "name": "ipython",
    "version": 3
   },
   "file_extension": ".py",
   "mimetype": "text/x-python",
   "name": "python",
   "nbconvert_exporter": "python",
   "pygments_lexer": "ipython3",
   "version": "3.10.10"
  }
 },
 "nbformat": 4,
 "nbformat_minor": 5
}
