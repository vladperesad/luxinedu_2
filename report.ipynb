{
 "cells": [
  {
   "cell_type": "code",
   "execution_count": 162,
   "id": "bad1679c-6331-4128-ab81-7659edfc76e6",
   "metadata": {},
   "outputs": [],
   "source": [
    "import pandas as pd\n",
    "import numpy as np\n",
    "import json\n",
    "from urllib.parse import urlencode\n",
    "import requests"
   ]
  },
  {
   "cell_type": "code",
   "execution_count": 163,
   "id": "a3cea4f0-d6bb-45ef-acaa-c27051317922",
   "metadata": {
    "scrolled": true
   },
   "outputs": [],
   "source": [
    "#read in the result of query for last 14 days\n",
    "df_14 = pd.read_csv('/home/jupyter-vladperesad/files/query-14-.csv')"
   ]
  },
  {
   "cell_type": "code",
   "execution_count": 165,
   "id": "d5897f89-f4fa-44ba-9179-56fbac9bfc12",
   "metadata": {},
   "outputs": [],
   "source": [
    "#create a subset that only contains student_ids\n",
    "df_st = df_14['student_id']"
   ]
  },
  {
   "cell_type": "code",
   "execution_count": 166,
   "id": "c6b219bd-7398-4143-bbb4-1605e2e268cc",
   "metadata": {},
   "outputs": [],
   "source": [
    "#calculate percent difference in students performance beween most recent class and the class before that\n",
    "df_pct = df_14 \\\n",
    "    .drop(columns=['student_name',\n",
    "                    'group_name',\n",
    "                    'date']) \\\n",
    "    .groupby('student_id') \\\n",
    "    .pct_change(fill_method=None)*100"
   ]
  },
  {
   "cell_type": "code",
   "execution_count": 168,
   "id": "959a74dd-ceb7-46d4-a74f-181beb95b750",
   "metadata": {},
   "outputs": [],
   "source": [
    "df_pct = df_pct \\\n",
    "    .round(1) \\\n",
    "    .dropna(axis=0,\n",
    "            how='all') \\\n",
    "    .join(df_st,\n",
    "          how='inner')"
   ]
  },
  {
   "cell_type": "code",
   "execution_count": 169,
   "id": "2806cb27-a2ed-467c-a381-a290506b49c6",
   "metadata": {
    "scrolled": true
   },
   "outputs": [],
   "source": [
    "#read in the result of query for last 7 days\n",
    "df_7 = pd.read_csv('/home/jupyter-vladperesad/files/query-7-.csv',\n",
    "                   dtype={'homework':np.float32,\n",
    "                          'behaviour':np.float32,\n",
    "                          'comprehension':np.float32,\n",
    "                          'vocabulary':np.float32,\n",
    "                          'speaking':np.float32,\n",
    "                          'reading':np.float32,\n",
    "                          'writing':np.float32})"
   ]
  },
  {
   "cell_type": "code",
   "execution_count": 186,
   "id": "0374a7f9-8e77-4ab2-851f-b59b63402c78",
   "metadata": {
    "scrolled": true
   },
   "outputs": [],
   "source": [
    "final_table = df_7 \\\n",
    "    .merge(df_pct,\n",
    "           how='left',\n",
    "           on='student_id',\n",
    "           suffixes=('_act','_pct')) \\\n",
    "    .astype(str) \\\n",
    "    .replace('nan','--')"
   ]
  },
  {
   "cell_type": "code",
   "execution_count": 173,
   "id": "f3f8ae82",
   "metadata": {},
   "outputs": [],
   "source": [
    "#in order to keep the token hidden it was saved in JSON file and can be read from it:\n",
    "with open('/home/jupyter-vladperesad/keys/token_wed_1905.json') as src:\n",
    "    data = json.load(src)"
   ]
  },
  {
   "cell_type": "code",
   "execution_count": 174,
   "id": "f3421fb4",
   "metadata": {},
   "outputs": [],
   "source": [
    "token = data['token']\n",
    "chat_id = data['chat_id']"
   ]
  },
  {
   "cell_type": "code",
   "execution_count": 175,
   "id": "0b16b31e-47d9-4cf7-837a-20931a94a18e",
   "metadata": {},
   "outputs": [],
   "source": [
    "for index, row in final_table.iterrows():\n",
    "    date = row['date']\n",
    "    student_name = row['student_name']\n",
    "    homework_a = row['homework_act']\n",
    "    homework_p = row['homework_pct']\n",
    "    behaviour_a = row['behaviour_act']\n",
    "    behaviour_p = row['behaviour_pct']\n",
    "    comprehension_a = row['comprehension_act']\n",
    "    comprehension_p = row['comprehension_pct']\n",
    "    vocabulary_a = row['vocabulary_act']\n",
    "    vocabulary_p = row['vocabulary_pct']\n",
    "    speaking_a = row['speaking_act']\n",
    "    speaking_p = row['speaking_pct']\n",
    "    reading_a = row['reading_act']\n",
    "    reading_p = row['reading_pct']\n",
    "    writing_a = row['writing_act']\n",
    "    writing_p = row['writing_pct']\n",
    "        \n",
    "    message = f''' Report on the class on {date}\n",
    "    Student : {student_name}\n",
    "    Homework: {homework_a} ({homework_p}%)\n",
    "    Behaviour: {behaviour_a} ({behaviour_p}%)\n",
    "    Comprehension: {comprehension_a} ({comprehension_p}%)\n",
    "    Vocabulary: {vocabulary_a} ({vocabulary_p}%)\n",
    "    Speaking: {speaking_a} ({speaking_p}%)\n",
    "    Reading: {reading_a} ({reading_p}%)\n",
    "    Writing: {writing_a} ({writing_p}%)'''\n",
    "    \n",
    "    message = message\n",
    "    params = {'chat_id': chat_id,\n",
    "              'text': message}\n",
    "    base_url = f'https://api.telegram.org/bot{token}/'\n",
    "    url = base_url + 'sendMessage?' + urlencode(params)\n",
    "    resp = requests.get(url)"
   ]
  }
 ],
 "metadata": {
  "kernelspec": {
   "display_name": "Python 3 (ipykernel)",
   "language": "python",
   "name": "python3"
  },
  "language_info": {
   "codemirror_mode": {
    "name": "ipython",
    "version": 3
   },
   "file_extension": ".py",
   "mimetype": "text/x-python",
   "name": "python",
   "nbconvert_exporter": "python",
   "pygments_lexer": "ipython3",
   "version": "3.10.10"
  }
 },
 "nbformat": 4,
 "nbformat_minor": 5
}
