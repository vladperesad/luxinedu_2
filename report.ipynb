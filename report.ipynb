{
 "cells": [
  {
   "cell_type": "code",
   "execution_count": 5,
   "id": "bad1679c-6331-4128-ab81-7659edfc76e6",
   "metadata": {},
   "outputs": [],
   "source": [
    "import pandas as pd\n",
    "import numpy as np"
   ]
  },
  {
   "cell_type": "code",
   "execution_count": 62,
   "id": "a3cea4f0-d6bb-45ef-acaa-c27051317922",
   "metadata": {
    "scrolled": true
   },
   "outputs": [],
   "source": [
    "df = pd.read_csv('/home/jupyter-vladperesad/files/THE QUERY-.csv')\n",
    "df"
   ]
  },
  {
   "cell_type": "code",
   "execution_count": 63,
   "id": "9f8a934a-5041-41e6-8ea0-c46c417c00fc",
   "metadata": {},
   "outputs": [],
   "source": [
    "df_2 = df.drop(columns=['student_name',\n",
    "                        'group_name',\n",
    "                        'date'])"
   ]
  },
  {
   "cell_type": "code",
   "execution_count": 64,
   "id": "c6b219bd-7398-4143-bbb4-1605e2e268cc",
   "metadata": {},
   "outputs": [],
   "source": [
    "df_2 = df \\\n",
    "    .drop(columns=['student_name',\n",
    "                    'group_name',\n",
    "                    'date']) \\\n",
    "    .groupby('student_id') \\\n",
    "    .pct_change(fill_method=None)*100"
   ]
  },
  {
   "cell_type": "code",
   "execution_count": 65,
   "id": "20dae9a7-a09c-4ed3-adb6-b14c05427a57",
   "metadata": {},
   "outputs": [],
   "source": [
    "df_2.dropna(axis=0, how='all', inplace=True)"
   ]
  },
  {
   "cell_type": "code",
   "execution_count": 67,
   "id": "0374a7f9-8e77-4ab2-851f-b59b63402c78",
   "metadata": {
    "scrolled": true
   },
   "outputs": [],
   "source": [
    "final_table = df.join(df_2, how='inner', rsuffix= '_pct')"
   ]
  }
 ],
 "metadata": {
  "kernelspec": {
   "display_name": "Python 3 (ipykernel)",
   "language": "python",
   "name": "python3"
  },
  "language_info": {
   "codemirror_mode": {
    "name": "ipython",
    "version": 3
   },
   "file_extension": ".py",
   "mimetype": "text/x-python",
   "name": "python",
   "nbconvert_exporter": "python",
   "pygments_lexer": "ipython3",
   "version": "3.10.10"
  }
 },
 "nbformat": 4,
 "nbformat_minor": 5
}
