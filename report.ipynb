{
 "cells": [
  {
   "cell_type": "code",
   "execution_count": 1,
   "id": "bad1679c-6331-4128-ab81-7659edfc76e6",
   "metadata": {},
   "outputs": [],
   "source": [
    "import pandas as pd\n",
    "import numpy as np"
   ]
  },
  {
   "cell_type": "code",
   "execution_count": 61,
   "id": "a3cea4f0-d6bb-45ef-acaa-c27051317922",
   "metadata": {
    "scrolled": true
   },
   "outputs": [],
   "source": [
    "#read in the result of query for last 14 days\n",
    "df_14 = pd.read_csv('/home/jupyter-vladperesad/files/query-14-.csv')"
   ]
  },
  {
   "cell_type": "code",
   "execution_count": 47,
   "id": "d5897f89-f4fa-44ba-9179-56fbac9bfc12",
   "metadata": {},
   "outputs": [],
   "source": [
    "#create a subset that only contains student_ids\n",
    "df_st = df_14['student_id']"
   ]
  },
  {
   "cell_type": "code",
   "execution_count": 48,
   "id": "c6b219bd-7398-4143-bbb4-1605e2e268cc",
   "metadata": {},
   "outputs": [],
   "source": [
    "#calculate percent difference in students performance beween most recent class and the class before that\n",
    "df_pct = df_14 \\\n",
    "    .drop(columns=['student_name',\n",
    "                    'group_name',\n",
    "                    'date']) \\\n",
    "    .groupby('student_id') \\\n",
    "    .pct_change(fill_method=None)*100"
   ]
  },
  {
   "cell_type": "code",
   "execution_count": 49,
   "id": "20dae9a7-a09c-4ed3-adb6-b14c05427a57",
   "metadata": {},
   "outputs": [],
   "source": [
    "#drop rows that have NaN value across all columns (these are the students who came once hence the percentage difference cannot be calculated)\n",
    "df_pct.dropna(axis=0, how='all', inplace=True)"
   ]
  },
  {
   "cell_type": "code",
   "execution_count": 56,
   "id": "bc225610-9a27-4ae3-8ecd-bba80a7dec62",
   "metadata": {},
   "outputs": [],
   "source": [
    "#add to column that contains stidents ids for later merging\n",
    "df_pct = df_pct.join(df_st, how='inner')"
   ]
  },
  {
   "cell_type": "code",
   "execution_count": 62,
   "id": "2806cb27-a2ed-467c-a381-a290506b49c6",
   "metadata": {
    "scrolled": true
   },
   "outputs": [],
   "source": [
    "#read in the result of query for last 7 days\n",
    "df_7 = pd.read_csv('/home/jupyter-vladperesad/files/query-7-.csv')"
   ]
  },
  {
   "cell_type": "code",
   "execution_count": 63,
   "id": "0374a7f9-8e77-4ab2-851f-b59b63402c78",
   "metadata": {
    "scrolled": true
   },
   "outputs": [],
   "source": [
    "final_table = df_7.merge(df_pct, how='left', on='student_id', suffixes=('_act','_pct'))"
   ]
  },
  {
   "cell_type": "code",
   "execution_count": null,
   "id": "d9584964-db0b-4da5-bf88-e5b9b418f1f6",
   "metadata": {},
   "outputs": [],
   "source": []
  }
 ],
 "metadata": {
  "kernelspec": {
   "display_name": "Python 3 (ipykernel)",
   "language": "python",
   "name": "python3"
  },
  "language_info": {
   "codemirror_mode": {
    "name": "ipython",
    "version": 3
   },
   "file_extension": ".py",
   "mimetype": "text/x-python",
   "name": "python",
   "nbconvert_exporter": "python",
   "pygments_lexer": "ipython3",
   "version": "3.10.10"
  }
 },
 "nbformat": 4,
 "nbformat_minor": 5
}
