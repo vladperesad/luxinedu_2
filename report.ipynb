{
 "cells": [
  {
   "cell_type": "code",
   "execution_count": 1,
   "id": "bad1679c-6331-4128-ab81-7659edfc76e6",
   "metadata": {},
   "outputs": [],
   "source": [
    "import pandas as pd\n",
    "import numpy as np"
   ]
  },
  {
   "cell_type": "code",
   "execution_count": 2,
   "id": "a3cea4f0-d6bb-45ef-acaa-c27051317922",
   "metadata": {
    "scrolled": true
   },
   "outputs": [],
   "source": [
    "#read in the result of query for last 14 days\n",
    "df_14 = pd.read_csv('/home/jupyter-vladperesad/files/query-14-.csv')"
   ]
  },
  {
   "cell_type": "code",
   "execution_count": 5,
   "id": "d5897f89-f4fa-44ba-9179-56fbac9bfc12",
   "metadata": {},
   "outputs": [],
   "source": [
    "#create a subset that only contains student_ids\n",
    "df_st = df_14['student_id']"
   ]
  },
  {
   "cell_type": "code",
   "execution_count": 7,
   "id": "c6b219bd-7398-4143-bbb4-1605e2e268cc",
   "metadata": {},
   "outputs": [],
   "source": [
    "#calculate percent difference in students performance beween most recent class and the class before that\n",
    "df_pct = df_14 \\\n",
    "    .drop(columns=['student_name',\n",
    "                    'group_name',\n",
    "                    'date']) \\\n",
    "    .groupby('student_id') \\\n",
    "    .pct_change(fill_method=None)*100"
   ]
  },
  {
   "cell_type": "code",
   "execution_count": 8,
   "id": "20dae9a7-a09c-4ed3-adb6-b14c05427a57",
   "metadata": {},
   "outputs": [],
   "source": [
    "#drop rows that have NaN value across all columns (these are the students who came once hence the percentage difference cannot be calculated)\n",
    "df_pct.dropna(axis=0, how='all', inplace=True)"
   ]
  },
  {
   "cell_type": "code",
   "execution_count": 9,
   "id": "bc225610-9a27-4ae3-8ecd-bba80a7dec62",
   "metadata": {},
   "outputs": [],
   "source": [
    "#add to column that contains stidents ids for later merging\n",
    "df_pct = df_pct.join(df_st, how='inner')"
   ]
  },
  {
   "cell_type": "code",
   "execution_count": 12,
   "id": "2806cb27-a2ed-467c-a381-a290506b49c6",
   "metadata": {
    "scrolled": true
   },
   "outputs": [],
   "source": [
    "#read in the result of query for last 7 days\n",
    "df_7 = pd.read_csv('/home/jupyter-vladperesad/files/query-7-.csv')"
   ]
  },
  {
   "cell_type": "code",
   "execution_count": 14,
   "id": "0374a7f9-8e77-4ab2-851f-b59b63402c78",
   "metadata": {
    "scrolled": true
   },
   "outputs": [],
   "source": [
    "final_table = df_7.merge(df_pct, how='left', on='student_id', suffixes=('_act','_pct'))"
   ]
  },
  {
   "cell_type": "code",
   "execution_count": 40,
   "id": "0b16b31e-47d9-4cf7-837a-20931a94a18e",
   "metadata": {
    "scrolled": true
   },
   "outputs": [
    {
     "name": "stdout",
     "output_type": "stream",
     "text": [
      " Report from 2024-02-29\n",
      "    Student id: 4\n",
      " Report from 2024-02-29\n",
      "    Student id: 5\n",
      " Report from 2024-02-29\n",
      "    Student id: 6\n",
      " Report from 2024-02-29\n",
      "    Student id: 7\n",
      " Report from 2024-02-29\n",
      "    Student id: 8\n",
      " Report from 2024-02-29\n",
      "    Student id: 9\n",
      " Report from 2024-03-01\n",
      "    Student id: 11\n",
      " Report from 2024-03-01\n",
      "    Student id: 12\n",
      " Report from 2024-03-01\n",
      "    Student id: 13\n",
      " Report from 2024-03-01\n",
      "    Student id: 14\n",
      " Report from 2024-03-02\n",
      "    Student id: 16\n",
      " Report from 2024-03-02\n",
      "    Student id: 17\n",
      " Report from 2024-03-02\n",
      "    Student id: 19\n",
      " Report from 2024-03-02\n",
      "    Student id: 20\n",
      " Report from 2024-03-02\n",
      "    Student id: 21\n",
      " Report from 2024-03-02\n",
      "    Student id: 22\n",
      " Report from 2024-03-02\n",
      "    Student id: 23\n",
      " Report from 2024-03-02\n",
      "    Student id: 24\n",
      " Report from 2024-03-02\n",
      "    Student id: 25\n",
      " Report from 2024-03-02\n",
      "    Student id: 26\n",
      " Report from 2024-03-02\n",
      "    Student id: 27\n",
      " Report from 2024-03-02\n",
      "    Student id: 28\n",
      " Report from 2024-03-02\n",
      "    Student id: 29\n",
      " Report from 2024-03-03\n",
      "    Student id: 30\n",
      " Report from 2024-03-03\n",
      "    Student id: 33\n",
      " Report from 2024-03-03\n",
      "    Student id: 34\n",
      " Report from 2024-03-03\n",
      "    Student id: 35\n",
      " Report from 2024-03-03\n",
      "    Student id: 37\n",
      " Report from 2024-03-03\n",
      "    Student id: 38\n",
      " Report from 2024-03-03\n",
      "    Student id: 39\n",
      " Report from 2024-02-29\n",
      "    Student id: 40\n"
     ]
    }
   ],
   "source": [
    "for index, row in final_table.iterrows():\n",
    "    date = row['date']\n",
    "    etc = row['student_id']\n",
    "    msg = f''' Report from {date}\n",
    "    Student id: {etc}'''\n",
    "    print(msg)  "
   ]
  }
 ],
 "metadata": {
  "kernelspec": {
   "display_name": "Python 3 (ipykernel)",
   "language": "python",
   "name": "python3"
  },
  "language_info": {
   "codemirror_mode": {
    "name": "ipython",
    "version": 3
   },
   "file_extension": ".py",
   "mimetype": "text/x-python",
   "name": "python",
   "nbconvert_exporter": "python",
   "pygments_lexer": "ipython3",
   "version": "3.10.10"
  }
 },
 "nbformat": 4,
 "nbformat_minor": 5
}
