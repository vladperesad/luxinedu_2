{
 "cells": [
  {
   "cell_type": "code",
   "execution_count": 1,
   "id": "b6e5657d-d9b5-4311-b0ba-acc364493224",
   "metadata": {},
   "outputs": [],
   "source": [
    "import clickhouse_connect\n",
    "import json\n",
    "import pandas as pd\n",
    "import numpy as np"
   ]
  },
  {
   "cell_type": "code",
   "execution_count": 2,
   "id": "60e96639-25da-426b-888a-ba3dc637fcb5",
   "metadata": {
    "scrolled": true
   },
   "outputs": [],
   "source": [
    "with open('/home/jupyter-vladperesad/keys/clickhouse_connect_key.json') as src:\n",
    "    data = json.load(src)"
   ]
  },
  {
   "cell_type": "code",
   "execution_count": 3,
   "id": "a241e432-26ef-4a4f-a6a8-9394c7eb954a",
   "metadata": {},
   "outputs": [],
   "source": [
    "client = clickhouse_connect.get_client(host=data['host'],\n",
    "                                       port=8443,\n",
    "                                       username=data['user'],\n",
    "                                       password=data['password'])"
   ]
  },
  {
   "cell_type": "code",
   "execution_count": 4,
   "id": "ed54953c-60df-4ead-847f-5fb408b76740",
   "metadata": {},
   "outputs": [],
   "source": [
    "# create three lists that will house the data\n",
    "dt = []\n",
    "st_id = []\n",
    "bk_un_lsn =[]\n",
    "bk_un_lsn_2 = []\n",
    "hwrk = []\n",
    "beh = []\n",
    "comp = []\n",
    "vocab = []\n",
    "spk = []\n",
    "rd = []\n",
    "wrt = []"
   ]
  },
  {
   "cell_type": "code",
   "execution_count": 9,
   "id": "b58fc36e-7045-42dc-85f6-f65c5da51f3c",
   "metadata": {},
   "outputs": [
    {
     "name": "stdin",
     "output_type": "stream",
     "text": [
      "Enter the date: 2024-03-06\n",
      "Enter student id: 42\n",
      "Enter book, unit and lesson: HC1U6l7\n",
      "Enter book, unit and lesson: HC1U6l8\n",
      "Enter homework grade: \n",
      "Enter behaviour grade: 3\n",
      "Enter comprehension grade: 3\n",
      "Enter vocabulary grade: 1\n",
      "Enter speaking grade: 1\n",
      "Enter reading grade: 1\n",
      "Enter writing grade: 1\n"
     ]
    }
   ],
   "source": [
    "#use append to fill in each list with regarding information\n",
    "dt.append(input('Enter the date:'))\n",
    "st_id.append(int(input('Enter student id:')))\n",
    "bk_un_lsn.append(input('Enter book, unit and lesson:'))\n",
    "bk_un_lsn_2.append(input('Enter book, unit and lesson:') or None)\n",
    "hwrk.append(input('Enter homework grade:') or None)\n",
    "beh.append(input('Enter behaviour grade:') or None)\n",
    "comp.append(input('Enter comprehension grade:') or None)\n",
    "vocab.append(input('Enter vocabulary grade:') or None)\n",
    "spk.append(input('Enter speaking grade:') or None)\n",
    "rd.append(input('Enter reading grade:') or None)\n",
    "wrt.append(input('Enter writing grade:') or None)"
   ]
  },
  {
   "cell_type": "code",
   "execution_count": 10,
   "id": "693036e2-656a-4569-9d6a-c1a3837dafe5",
   "metadata": {
    "scrolled": true
   },
   "outputs": [
    {
     "data": {
      "text/html": [
       "<div>\n",
       "<style scoped>\n",
       "    .dataframe tbody tr th:only-of-type {\n",
       "        vertical-align: middle;\n",
       "    }\n",
       "\n",
       "    .dataframe tbody tr th {\n",
       "        vertical-align: top;\n",
       "    }\n",
       "\n",
       "    .dataframe thead th {\n",
       "        text-align: right;\n",
       "    }\n",
       "</style>\n",
       "<table border=\"1\" class=\"dataframe\">\n",
       "  <thead>\n",
       "    <tr style=\"text-align: right;\">\n",
       "      <th></th>\n",
       "      <th>date</th>\n",
       "      <th>student_id</th>\n",
       "      <th>book_unit_lesson</th>\n",
       "      <th>book_unit_lesson_2</th>\n",
       "      <th>homework</th>\n",
       "      <th>behaviour</th>\n",
       "      <th>comprehension</th>\n",
       "      <th>vocabulary</th>\n",
       "      <th>speaking</th>\n",
       "      <th>reading</th>\n",
       "      <th>writing</th>\n",
       "    </tr>\n",
       "  </thead>\n",
       "  <tbody>\n",
       "    <tr>\n",
       "      <th>0</th>\n",
       "      <td>2024-03-06</td>\n",
       "      <td>36</td>\n",
       "      <td>HC1U6l7</td>\n",
       "      <td>HC1U6l8</td>\n",
       "      <td>1</td>\n",
       "      <td>5</td>\n",
       "      <td>4</td>\n",
       "      <td>3</td>\n",
       "      <td>4</td>\n",
       "      <td>5</td>\n",
       "      <td>3</td>\n",
       "    </tr>\n",
       "    <tr>\n",
       "      <th>1</th>\n",
       "      <td>2024-03-06</td>\n",
       "      <td>2</td>\n",
       "      <td>HC1U6l7</td>\n",
       "      <td>HC1U6l8</td>\n",
       "      <td>5</td>\n",
       "      <td>5</td>\n",
       "      <td>5</td>\n",
       "      <td>5</td>\n",
       "      <td>5</td>\n",
       "      <td>5</td>\n",
       "      <td>3</td>\n",
       "    </tr>\n",
       "    <tr>\n",
       "      <th>2</th>\n",
       "      <td>2024-03-06</td>\n",
       "      <td>3</td>\n",
       "      <td>HC1U6l7</td>\n",
       "      <td>HC1U6l8</td>\n",
       "      <td>5</td>\n",
       "      <td>5</td>\n",
       "      <td>5</td>\n",
       "      <td>5</td>\n",
       "      <td>3</td>\n",
       "      <td>5</td>\n",
       "      <td>3</td>\n",
       "    </tr>\n",
       "    <tr>\n",
       "      <th>3</th>\n",
       "      <td>2024-03-06</td>\n",
       "      <td>1</td>\n",
       "      <td>HC1U6l7</td>\n",
       "      <td>HC1U6l8</td>\n",
       "      <td>1</td>\n",
       "      <td>5</td>\n",
       "      <td>4</td>\n",
       "      <td>3</td>\n",
       "      <td>2</td>\n",
       "      <td>4</td>\n",
       "      <td>1</td>\n",
       "    </tr>\n",
       "    <tr>\n",
       "      <th>4</th>\n",
       "      <td>2024-03-06</td>\n",
       "      <td>42</td>\n",
       "      <td>HC1U6l7</td>\n",
       "      <td>HC1U6l8</td>\n",
       "      <td>None</td>\n",
       "      <td>3</td>\n",
       "      <td>3</td>\n",
       "      <td>1</td>\n",
       "      <td>1</td>\n",
       "      <td>1</td>\n",
       "      <td>1</td>\n",
       "    </tr>\n",
       "  </tbody>\n",
       "</table>\n",
       "</div>"
      ],
      "text/plain": [
       "        date  student_id book_unit_lesson book_unit_lesson_2 homework  \\\n",
       "0 2024-03-06          36          HC1U6l7            HC1U6l8        1   \n",
       "1 2024-03-06           2          HC1U6l7            HC1U6l8        5   \n",
       "2 2024-03-06           3          HC1U6l7            HC1U6l8        5   \n",
       "3 2024-03-06           1          HC1U6l7            HC1U6l8        1   \n",
       "4 2024-03-06          42          HC1U6l7            HC1U6l8     None   \n",
       "\n",
       "  behaviour comprehension vocabulary speaking reading writing  \n",
       "0         5             4          3        4       5       3  \n",
       "1         5             5          5        5       5       3  \n",
       "2         5             5          5        3       5       3  \n",
       "3         5             4          3        2       4       1  \n",
       "4         3             3          1        1       1       1  "
      ]
     },
     "execution_count": 10,
     "metadata": {},
     "output_type": "execute_result"
    }
   ],
   "source": [
    "# define dictionary of lists and create a dataframe \n",
    "df_structure = {'date': dt,\n",
    "                'student_id': st_id,\n",
    "                'book_unit_lesson': bk_un_lsn,\n",
    "                'book_unit_lesson_2' : bk_un_lsn_2,\n",
    "                'homework' : hwrk,\n",
    "                'behaviour' : beh,\n",
    "                'comprehension' : comp,\n",
    "                'vocabulary' : vocab,\n",
    "                'speaking' : spk,\n",
    "                'reading' : rd,\n",
    "                'writing' : wrt} \n",
    "     \n",
    "df = pd.DataFrame(df_structure)\n",
    "df['date'] = pd.to_datetime(df['date'])\n",
    "df"
   ]
  },
  {
   "cell_type": "code",
   "execution_count": 11,
   "id": "d2ede485-9318-488c-9ac5-dde244bf73f7",
   "metadata": {},
   "outputs": [
    {
     "data": {
      "text/plain": [
       "<clickhouse_connect.driver.summary.QuerySummary at 0x7f5507b0ba60>"
      ]
     },
     "execution_count": 11,
     "metadata": {},
     "output_type": "execute_result"
    }
   ],
   "source": [
    "client.insert_df('luxinedu_2.attendance', df)"
   ]
  }
 ],
 "metadata": {
  "kernelspec": {
   "display_name": "Python 3 (ipykernel)",
   "language": "python",
   "name": "python3"
  },
  "language_info": {
   "codemirror_mode": {
    "name": "ipython",
    "version": 3
   },
   "file_extension": ".py",
   "mimetype": "text/x-python",
   "name": "python",
   "nbconvert_exporter": "python",
   "pygments_lexer": "ipython3",
   "version": "3.10.10"
  }
 },
 "nbformat": 4,
 "nbformat_minor": 5
}
