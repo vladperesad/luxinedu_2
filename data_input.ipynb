{
 "cells": [
  {
   "cell_type": "code",
   "execution_count": 75,
   "id": "b6e5657d-d9b5-4311-b0ba-acc364493224",
   "metadata": {},
   "outputs": [],
   "source": [
    "import pandahouse as ph\n",
    "import json\n",
    "import pandas as pd"
   ]
  },
  {
   "cell_type": "code",
   "execution_count": 12,
   "id": "1ee9a6f4-b7a2-4ac4-b97c-bea37522d7da",
   "metadata": {},
   "outputs": [],
   "source": [
    "with open('/home/jupyter-vladperesad/keys/clickhouse_key.json') as src:\n",
    "    data = json.load(src)"
   ]
  },
  {
   "cell_type": "code",
   "execution_count": 13,
   "id": "f6c5bb48-e267-4eb6-bc09-f4bf01d628cb",
   "metadata": {},
   "outputs": [],
   "source": [
    "connection = dict(database = 'luxinedu_2',\n",
    "host = data['host'],\n",
    "user = data['user'],\n",
    "password = data['password'])"
   ]
  },
  {
   "cell_type": "code",
   "execution_count": 127,
   "id": "05d53429-2259-4269-8f3f-c8aa9f0640ce",
   "metadata": {},
   "outputs": [],
   "source": [
    "#creating lists and combining them into a dataframe\n",
    "a = ['2022-05-23']\n",
    "b = [7]\n",
    "c = ['GB1U8p89']"
   ]
  },
  {
   "cell_type": "code",
   "execution_count": 133,
   "id": "bc777935-59c4-4aa3-bc4d-feef4b919e46",
   "metadata": {},
   "outputs": [],
   "source": [
    "a.append('2022-05-24')\n",
    "b.append(8)\n",
    "c.append('GB1U8p81')"
   ]
  },
  {
   "cell_type": "code",
   "execution_count": 136,
   "id": "350a2d72-47a7-4600-b0fe-bad48ce183fb",
   "metadata": {},
   "outputs": [
    {
     "data": {
      "text/plain": [
       "['GB1U8p89', 'GB1U8p81']"
      ]
     },
     "execution_count": 136,
     "metadata": {},
     "output_type": "execute_result"
    }
   ],
   "source": [
    "c"
   ]
  },
  {
   "cell_type": "code",
   "execution_count": 138,
   "id": "552a2dd6-d707-4a6c-9aaf-0ada935adffc",
   "metadata": {},
   "outputs": [
    {
     "data": {
      "text/html": [
       "<div>\n",
       "<style scoped>\n",
       "    .dataframe tbody tr th:only-of-type {\n",
       "        vertical-align: middle;\n",
       "    }\n",
       "\n",
       "    .dataframe tbody tr th {\n",
       "        vertical-align: top;\n",
       "    }\n",
       "\n",
       "    .dataframe thead tr th {\n",
       "        text-align: left;\n",
       "    }\n",
       "</style>\n",
       "<table border=\"1\" class=\"dataframe\">\n",
       "  <thead>\n",
       "    <tr>\n",
       "      <th></th>\n",
       "      <th>2022-05-23</th>\n",
       "      <th>2022-05-24</th>\n",
       "    </tr>\n",
       "    <tr>\n",
       "      <th></th>\n",
       "      <th>7</th>\n",
       "      <th>8</th>\n",
       "    </tr>\n",
       "    <tr>\n",
       "      <th></th>\n",
       "      <th>GB1U8p89</th>\n",
       "      <th>GB1U8p81</th>\n",
       "    </tr>\n",
       "  </thead>\n",
       "  <tbody>\n",
       "  </tbody>\n",
       "</table>\n",
       "</div>"
      ],
      "text/plain": [
       "Empty DataFrame\n",
       "Columns: [(2022-05-23, 7, GB1U8p89), (2022-05-24, 8, GB1U8p81)]\n",
       "Index: []"
      ]
     },
     "execution_count": 138,
     "metadata": {},
     "output_type": "execute_result"
    }
   ],
   "source": [
    "test = pd.DataFrame(columns = [a,b,c])\n",
    "test"
   ]
  },
  {
   "cell_type": "code",
   "execution_count": 81,
   "id": "4be57850-3b07-4f28-862e-ca1b13da5b66",
   "metadata": {},
   "outputs": [
    {
     "data": {
      "text/plain": [
       "5"
      ]
     },
     "execution_count": 81,
     "metadata": {},
     "output_type": "execute_result"
    }
   ],
   "source": [
    "ph.to_clickhouse(df, 'test', index=False, connection=connection)"
   ]
  },
  {
   "cell_type": "code",
   "execution_count": 64,
   "id": "3ee49492-2466-4d12-b598-e2a37dd9805d",
   "metadata": {},
   "outputs": [
    {
     "data": {
      "text/html": [
       "<div>\n",
       "<style scoped>\n",
       "    .dataframe tbody tr th:only-of-type {\n",
       "        vertical-align: middle;\n",
       "    }\n",
       "\n",
       "    .dataframe tbody tr th {\n",
       "        vertical-align: top;\n",
       "    }\n",
       "\n",
       "    .dataframe thead th {\n",
       "        text-align: right;\n",
       "    }\n",
       "</style>\n",
       "<table border=\"1\" class=\"dataframe\">\n",
       "  <thead>\n",
       "    <tr style=\"text-align: right;\">\n",
       "      <th></th>\n",
       "      <th>date</th>\n",
       "      <th>student_id</th>\n",
       "      <th>book_unit_page</th>\n",
       "    </tr>\n",
       "  </thead>\n",
       "  <tbody>\n",
       "    <tr>\n",
       "      <th>0</th>\n",
       "      <td>2012-08-29</td>\n",
       "      <td>11</td>\n",
       "      <td>BW1U1p1</td>\n",
       "    </tr>\n",
       "    <tr>\n",
       "      <th>1</th>\n",
       "      <td>1970-01-01</td>\n",
       "      <td>23</td>\n",
       "      <td>BW3U5p33</td>\n",
       "    </tr>\n",
       "    <tr>\n",
       "      <th>2</th>\n",
       "      <td>1975-06-21</td>\n",
       "      <td>25</td>\n",
       "      <td>BW1U5p33</td>\n",
       "    </tr>\n",
       "    <tr>\n",
       "      <th>3</th>\n",
       "      <td>1975-07-02</td>\n",
       "      <td>12</td>\n",
       "      <td>BW1U4p24</td>\n",
       "    </tr>\n",
       "    <tr>\n",
       "      <th>4</th>\n",
       "      <td>2024-01-15</td>\n",
       "      <td>33</td>\n",
       "      <td>BW2U4p24</td>\n",
       "    </tr>\n",
       "  </tbody>\n",
       "</table>\n",
       "</div>"
      ],
      "text/plain": [
       "        date  student_id book_unit_page\n",
       "0 2012-08-29          11        BW1U1p1\n",
       "1 1970-01-01          23       BW3U5p33\n",
       "2 1975-06-21          25       BW1U5p33\n",
       "3 1975-07-02          12       BW1U4p24\n",
       "4 2024-01-15          33       BW2U4p24"
      ]
     },
     "execution_count": 64,
     "metadata": {},
     "output_type": "execute_result"
    }
   ],
   "source": [
    "#make sure the connection to the needed database and table is established\n",
    "query = \"\"\"\n",
    "SELECT\n",
    "    *\n",
    "FROM\n",
    "    luxinedu_2.test\n",
    "\"\"\"\n",
    "\n",
    "df_read = ph.read_clickhouse(query, connection=connection)\n",
    "df_read"
   ]
  },
  {
   "cell_type": "code",
   "execution_count": 65,
   "id": "1204476a-1158-4224-bfa5-b9767d400698",
   "metadata": {},
   "outputs": [
    {
     "data": {
      "text/plain": [
       "'\\nSELECT\\n    *\\nFROM\\n    luxinedu_2.test\\n'"
      ]
     },
     "execution_count": 65,
     "metadata": {},
     "output_type": "execute_result"
    }
   ],
   "source": [
    "query"
   ]
  },
  {
   "cell_type": "code",
   "execution_count": 67,
   "id": "739ee97e-fabb-4ea2-ad13-7904732a2b37",
   "metadata": {},
   "outputs": [
    {
     "name": "stdin",
     "output_type": "stream",
     "text": [
      "Enter the date: 2022-14-15\n",
      "Enter student id: 23\n",
      "Enter book, unit and page: BW3U5p33\n"
     ]
    }
   ],
   "source": [
    "date = input('Enter the date:')\n",
    "student_id = int(input('Enter student id:'))\n",
    "book_unit_lesson = input('Enter book, unit and page:')\n",
    "# book_unit_lesson_2 = input('Enter book, unit and page:')\n",
    "# homework = int(input('Enter homework grade:'))\n",
    "# behaviour = int(input('Enter behaviour grade:'))\n",
    "# comprehension = int(input('Enter comprehension grade:'))\n",
    "# vocabulary = int(input('Enter vocabulary grade:'))\n",
    "# speaking = int(input('Enter homework speaking:'))\n",
    "# reading = int(input('Enter reading grade:'))\n",
    "# writing = int(input('Enter writing grade:'))\n",
    "\n",
    "# message =\"'{}',{},'{}'\"\n",
    "# message.format(date, student_id, book_unit_lesson)\n",
    "\n",
    "query = \"\"\"\n",
    "INSERT INTO luxinedu_2.test\n",
    "VALUES (\n",
    "'{}',\n",
    "{},\n",
    "'{}')\n",
    "\"\"\"\n",
    "msg = query.format(date, student_id, book_unit_lesson)"
   ]
  },
  {
   "cell_type": "code",
   "execution_count": 74,
   "id": "768f8c95-ec17-4d1b-8caf-4d40c6eb20f4",
   "metadata": {},
   "outputs": [
    {
     "ename": "ClickhouseException",
     "evalue": "b\"Code: 27. DB::Exception: Cannot parse input: expected '(' before: 'FORMAT TSVWithNamesAndTypes\\\\n':  at row 1: While executing ValuesBlockInputFormat. (CANNOT_PARSE_INPUT_ASSERTION_FAILED) (version 24.0.2.54477 (official build))\\n\"",
     "output_type": "error",
     "traceback": [
      "\u001b[0;31m---------------------------------------------------------------------------\u001b[0m",
      "\u001b[0;31mHTTPError\u001b[0m                                 Traceback (most recent call last)",
      "File \u001b[0;32m~/.local/lib/python3.10/site-packages/pandahouse/http.py:45\u001b[0m, in \u001b[0;36mexecute\u001b[0;34m(query, connection, data, external, stream)\u001b[0m\n\u001b[1;32m     44\u001b[0m \u001b[38;5;28;01mtry\u001b[39;00m:\n\u001b[0;32m---> 45\u001b[0m     \u001b[43mresponse\u001b[49m\u001b[38;5;241;43m.\u001b[39;49m\u001b[43mraise_for_status\u001b[49m\u001b[43m(\u001b[49m\u001b[43m)\u001b[49m\n\u001b[1;32m     46\u001b[0m \u001b[38;5;28;01mexcept\u001b[39;00m RequestException \u001b[38;5;28;01mas\u001b[39;00m e:\n",
      "File \u001b[0;32m/opt/tljh/user/lib/python3.10/site-packages/requests/models.py:1021\u001b[0m, in \u001b[0;36mResponse.raise_for_status\u001b[0;34m(self)\u001b[0m\n\u001b[1;32m   1020\u001b[0m \u001b[38;5;28;01mif\u001b[39;00m http_error_msg:\n\u001b[0;32m-> 1021\u001b[0m     \u001b[38;5;28;01mraise\u001b[39;00m HTTPError(http_error_msg, response\u001b[38;5;241m=\u001b[39m\u001b[38;5;28mself\u001b[39m)\n",
      "\u001b[0;31mHTTPError\u001b[0m: 400 Client Error: Bad Request for url: https://e9e5aqsg5t.ap-south-1.aws.clickhouse.cloud:8443/?query=INSERT+INTO+luxinedu_2.test+VALUES+%28%0A%272011-12-13%27%2C%0A32%2C%0A%27NBDCRS%27%0A%29+FORMAT+TSVWithNamesAndTypes&user=default&password=ZuN0NUMvGjdX_",
      "\nDuring handling of the above exception, another exception occurred:\n",
      "\u001b[0;31mClickhouseException\u001b[0m                       Traceback (most recent call last)",
      "Cell \u001b[0;32mIn[74], line 10\u001b[0m\n\u001b[1;32m      1\u001b[0m \u001b[38;5;66;03m#create a table in ClickHouse\u001b[39;00m\n\u001b[1;32m      2\u001b[0m query_test \u001b[38;5;241m=\u001b[39m \u001b[38;5;124m\"\"\"\u001b[39m\n\u001b[1;32m      3\u001b[0m \u001b[38;5;124mINSERT INTO luxinedu_2.test VALUES (\u001b[39m\n\u001b[1;32m      4\u001b[0m \u001b[38;5;124m'\u001b[39m\u001b[38;5;124m2011-12-13\u001b[39m\u001b[38;5;124m'\u001b[39m\u001b[38;5;124m,\u001b[39m\n\u001b[0;32m   (...)\u001b[0m\n\u001b[1;32m      8\u001b[0m \n\u001b[1;32m      9\u001b[0m \u001b[38;5;124m\"\"\"\u001b[39m\n\u001b[0;32m---> 10\u001b[0m df_create \u001b[38;5;241m=\u001b[39m \u001b[43mph\u001b[49m\u001b[38;5;241;43m.\u001b[39;49m\u001b[43mread_clickhouse\u001b[49m\u001b[43m(\u001b[49m\u001b[43mquery_test\u001b[49m\u001b[43m,\u001b[49m\u001b[43m \u001b[49m\u001b[43mconnection\u001b[49m\u001b[38;5;241;43m=\u001b[39;49m\u001b[43mconnection\u001b[49m\u001b[43m)\u001b[49m\n\u001b[1;32m     11\u001b[0m df_create\n\u001b[1;32m     12\u001b[0m \u001b[38;5;66;03m#since pandahouse doesn't recognize the response from clickhouse it throws an error while the table has actuall been created\u001b[39;00m\n",
      "File \u001b[0;32m~/.local/lib/python3.10/site-packages/pandahouse/core.py:56\u001b[0m, in \u001b[0;36mread_clickhouse\u001b[0;34m(query, tables, index, connection, **kwargs)\u001b[0m\n\u001b[1;32m     32\u001b[0m \u001b[38;5;250m\u001b[39m\u001b[38;5;124;03m\"\"\"Reads clickhouse query to pandas dataframe\u001b[39;00m\n\u001b[1;32m     33\u001b[0m \n\u001b[1;32m     34\u001b[0m \u001b[38;5;124;03mParameters\u001b[39;00m\n\u001b[0;32m   (...)\u001b[0m\n\u001b[1;32m     53\u001b[0m \u001b[38;5;124;03mAdditional keyword arguments passed to `pandas.read_table`\u001b[39;00m\n\u001b[1;32m     54\u001b[0m \u001b[38;5;124;03m\"\"\"\u001b[39;00m\n\u001b[1;32m     55\u001b[0m query, external \u001b[38;5;241m=\u001b[39m selection(query, tables\u001b[38;5;241m=\u001b[39mtables, index\u001b[38;5;241m=\u001b[39mindex)\n\u001b[0;32m---> 56\u001b[0m lines \u001b[38;5;241m=\u001b[39m \u001b[43mexecute\u001b[49m\u001b[43m(\u001b[49m\u001b[43mquery\u001b[49m\u001b[43m,\u001b[49m\u001b[43m \u001b[49m\u001b[43mexternal\u001b[49m\u001b[38;5;241;43m=\u001b[39;49m\u001b[43mexternal\u001b[49m\u001b[43m,\u001b[49m\u001b[43m \u001b[49m\u001b[43mstream\u001b[49m\u001b[38;5;241;43m=\u001b[39;49m\u001b[38;5;28;43;01mTrue\u001b[39;49;00m\u001b[43m,\u001b[49m\n\u001b[1;32m     57\u001b[0m \u001b[43m                \u001b[49m\u001b[43mconnection\u001b[49m\u001b[38;5;241;43m=\u001b[39;49m\u001b[43mconnection\u001b[49m\u001b[43m)\u001b[49m\n\u001b[1;32m     58\u001b[0m \u001b[38;5;28;01mreturn\u001b[39;00m to_dataframe(lines, \u001b[38;5;241m*\u001b[39m\u001b[38;5;241m*\u001b[39mkwargs)\n",
      "File \u001b[0;32m~/.local/lib/python3.10/site-packages/pandahouse/http.py:48\u001b[0m, in \u001b[0;36mexecute\u001b[0;34m(query, connection, data, external, stream)\u001b[0m\n\u001b[1;32m     46\u001b[0m \u001b[38;5;28;01mexcept\u001b[39;00m RequestException \u001b[38;5;28;01mas\u001b[39;00m e:\n\u001b[1;32m     47\u001b[0m     \u001b[38;5;28;01mif\u001b[39;00m response\u001b[38;5;241m.\u001b[39mcontent:\n\u001b[0;32m---> 48\u001b[0m         \u001b[38;5;28;01mraise\u001b[39;00m ClickhouseException(response\u001b[38;5;241m.\u001b[39mcontent)\n\u001b[1;32m     49\u001b[0m     \u001b[38;5;28;01melse\u001b[39;00m:\n\u001b[1;32m     50\u001b[0m         \u001b[38;5;28;01mraise\u001b[39;00m e\n",
      "\u001b[0;31mClickhouseException\u001b[0m: b\"Code: 27. DB::Exception: Cannot parse input: expected '(' before: 'FORMAT TSVWithNamesAndTypes\\\\n':  at row 1: While executing ValuesBlockInputFormat. (CANNOT_PARSE_INPUT_ASSERTION_FAILED) (version 24.0.2.54477 (official build))\\n\""
     ]
    }
   ],
   "source": [
    "#create a table in ClickHouse\n",
    "query_test = \"\"\"\n",
    "INSERT INTO luxinedu_2.test VALUES (\n",
    "'2011-12-13',\n",
    "32,\n",
    "'NBDCRS'\n",
    ")\n",
    "\n",
    "\"\"\"\n",
    "df_create = ph.read_clickhouse(query_test, connection=connection)\n",
    "df_create\n",
    "#since pandahouse doesn't recognize the response from clickhouse it throws an error while the table has actuall been created"
   ]
  },
  {
   "cell_type": "code",
   "execution_count": 84,
   "id": "f5e79a2c-8b10-4792-b50c-3059569a47e5",
   "metadata": {},
   "outputs": [
    {
     "data": {
      "text/html": [
       "<div>\n",
       "<style scoped>\n",
       "    .dataframe tbody tr th:only-of-type {\n",
       "        vertical-align: middle;\n",
       "    }\n",
       "\n",
       "    .dataframe tbody tr th {\n",
       "        vertical-align: top;\n",
       "    }\n",
       "\n",
       "    .dataframe thead th {\n",
       "        text-align: right;\n",
       "    }\n",
       "</style>\n",
       "<table border=\"1\" class=\"dataframe\">\n",
       "  <thead>\n",
       "    <tr style=\"text-align: right;\">\n",
       "      <th></th>\n",
       "      <th>date</th>\n",
       "      <th>student_id</th>\n",
       "      <th>book_unit_page</th>\n",
       "    </tr>\n",
       "  </thead>\n",
       "  <tbody>\n",
       "  </tbody>\n",
       "</table>\n",
       "</div>"
      ],
      "text/plain": [
       "Empty DataFrame\n",
       "Columns: [date, student_id, book_unit_page]\n",
       "Index: []"
      ]
     },
     "execution_count": 84,
     "metadata": {},
     "output_type": "execute_result"
    }
   ],
   "source": []
  },
  {
   "cell_type": "code",
   "execution_count": null,
   "id": "23db612c-4594-4039-a4a6-63c31130dbfc",
   "metadata": {},
   "outputs": [],
   "source": []
  }
 ],
 "metadata": {
  "kernelspec": {
   "display_name": "Python 3 (ipykernel)",
   "language": "python",
   "name": "python3"
  },
  "language_info": {
   "codemirror_mode": {
    "name": "ipython",
    "version": 3
   },
   "file_extension": ".py",
   "mimetype": "text/x-python",
   "name": "python",
   "nbconvert_exporter": "python",
   "pygments_lexer": "ipython3",
   "version": "3.10.10"
  }
 },
 "nbformat": 4,
 "nbformat_minor": 5
}
