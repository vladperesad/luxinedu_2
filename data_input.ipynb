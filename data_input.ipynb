{
 "cells": [
  {
   "cell_type": "code",
   "execution_count": 29,
   "id": "b6e5657d-d9b5-4311-b0ba-acc364493224",
   "metadata": {},
   "outputs": [],
   "source": [
    "import pandahouse as ph\n",
    "import json\n",
    "import pandas as pd\n",
    "import numpy as np"
   ]
  },
  {
   "cell_type": "code",
   "execution_count": 45,
   "id": "ed54953c-60df-4ead-847f-5fb408b76740",
   "metadata": {},
   "outputs": [],
   "source": [
    "# create three lists that will house the data\n",
    "dt = []\n",
    "st_id = []\n",
    "bk_un_lsn =[]\n",
    "bk_un_lsn_2 = []\n",
    "hwrk = []\n",
    "beh = []\n",
    "comp = []\n",
    "vocab = []\n",
    "spk = []\n",
    "rd = []\n",
    "wrt = []"
   ]
  },
  {
   "cell_type": "code",
   "execution_count": 46,
   "id": "b58fc36e-7045-42dc-85f6-f65c5da51f3c",
   "metadata": {},
   "outputs": [
    {
     "name": "stdin",
     "output_type": "stream",
     "text": [
      "Enter the date: 2012-02-02\n",
      "Enter student id: 55\n",
      "Enter book, unit and lesson: fgf\n",
      "Enter book, unit and lesson: fgfg\n",
      "Enter homework grade: 0\n",
      "Enter behaviour grade: 1\n",
      "Enter comprehension grade: 2\n",
      "Enter vocabulary grade: 3\n",
      "Enter speaking grade: \n",
      "Enter reading grade: \n",
      "Enter writing grade: \n"
     ]
    }
   ],
   "source": [
    "#use append to fill in each list with regarding information\n",
    "dt.append(input('Enter the date:'))\n",
    "st_id.append(int(input('Enter student id:')))\n",
    "bk_un_lsn.append(input('Enter book, unit and lesson:'))\n",
    "bk_un_lsn_2.append(input('Enter book, unit and lesson:') or np.nan)\n",
    "hwrk.append(input('Enter homework grade:') or np.nan)\n",
    "beh.append(input('Enter behaviour grade:') or np.nan)\n",
    "comp.append(input('Enter comprehension grade:') or np.nan)\n",
    "vocab.append(input('Enter vocabulary grade:') or np.nan)\n",
    "spk.append(input('Enter speaking grade:') or np.nan)\n",
    "rd.append(input('Enter reading grade:') or np.nan)\n",
    "wrt.append(input('Enter writing grade:') or np.nan)\n",
    "\n",
    "# message = '''\n",
    "# date: {}\n",
    "# student_id: {}\n",
    "# book_unit_page: {}\n",
    "# book_unit_lesson_2: {}\n",
    "# homework: {}\n",
    "# behaviour: {}\n",
    "# comprehension: {}\n",
    "# vocabulary: {}\n",
    "# speaking: {}\n",
    "# reading: {}\n",
    "# writing: {}\n",
    "# '''\n",
    "# print(message.format(date,\n",
    "#                      student_id,\n",
    "#                      book_unit_page,\n",
    "#                      book_unit_lesson_2,\n",
    "#                      homework,\n",
    "#                      behaviour,\n",
    "#                      comprehension,\n",
    "#                      vocabulary,\n",
    "#                      speaking,\n",
    "#                      reading,\n",
    "#                      writing))"
   ]
  },
  {
   "cell_type": "code",
   "execution_count": 47,
   "id": "693036e2-656a-4569-9d6a-c1a3837dafe5",
   "metadata": {},
   "outputs": [
    {
     "data": {
      "text/html": [
       "<div>\n",
       "<style scoped>\n",
       "    .dataframe tbody tr th:only-of-type {\n",
       "        vertical-align: middle;\n",
       "    }\n",
       "\n",
       "    .dataframe tbody tr th {\n",
       "        vertical-align: top;\n",
       "    }\n",
       "\n",
       "    .dataframe thead th {\n",
       "        text-align: right;\n",
       "    }\n",
       "</style>\n",
       "<table border=\"1\" class=\"dataframe\">\n",
       "  <thead>\n",
       "    <tr style=\"text-align: right;\">\n",
       "      <th></th>\n",
       "      <th>date</th>\n",
       "      <th>student_id</th>\n",
       "      <th>book_unit_lesson</th>\n",
       "      <th>book_unit_lesson_2</th>\n",
       "      <th>homework</th>\n",
       "      <th>behaviour</th>\n",
       "      <th>comprehension</th>\n",
       "      <th>vocabulary</th>\n",
       "      <th>speaking</th>\n",
       "      <th>reading</th>\n",
       "      <th>writing</th>\n",
       "    </tr>\n",
       "  </thead>\n",
       "  <tbody>\n",
       "    <tr>\n",
       "      <th>0</th>\n",
       "      <td>2012-02-02</td>\n",
       "      <td>55</td>\n",
       "      <td>fgf</td>\n",
       "      <td>fgfg</td>\n",
       "      <td>0</td>\n",
       "      <td>1</td>\n",
       "      <td>2</td>\n",
       "      <td>3</td>\n",
       "      <td>NaN</td>\n",
       "      <td>NaN</td>\n",
       "      <td>NaN</td>\n",
       "    </tr>\n",
       "  </tbody>\n",
       "</table>\n",
       "</div>"
      ],
      "text/plain": [
       "         date  student_id book_unit_lesson book_unit_lesson_2 homework  \\\n",
       "0  2012-02-02          55              fgf               fgfg        0   \n",
       "\n",
       "  behaviour comprehension vocabulary  speaking  reading  writing  \n",
       "0         1             2          3       NaN      NaN      NaN  "
      ]
     },
     "execution_count": 47,
     "metadata": {},
     "output_type": "execute_result"
    }
   ],
   "source": [
    "# define dictionary of lists and create a dataframe \n",
    "df_structure = {'date': dt,\n",
    "                'student_id': st_id,\n",
    "                'book_unit_lesson': bk_un_lsn,\n",
    "                'book_unit_lesson_2' : bk_un_lsn_2,\n",
    "                'homework' : hwrk,\n",
    "                'behaviour' : beh,\n",
    "                'comprehension' : comp,\n",
    "                'vocabulary' : vocab,\n",
    "                'speaking' : spk,\n",
    "                'reading' : rd,\n",
    "                'writing' : wrt} \n",
    " \n",
    "df = pd.DataFrame(df_structure)\n",
    "df"
   ]
  },
  {
   "cell_type": "code",
   "execution_count": 48,
   "id": "4be57850-3b07-4f28-862e-ca1b13da5b66",
   "metadata": {},
   "outputs": [
    {
     "data": {
      "text/plain": [
       "1"
      ]
     },
     "execution_count": 48,
     "metadata": {},
     "output_type": "execute_result"
    }
   ],
   "source": [
    "with open('/home/jupyter-vladperesad/keys/clickhouse_key.json') as src:\n",
    "    data = json.load(src)\n",
    "\n",
    "connection = dict(database = 'luxinedu_2',\n",
    "host = data['host'],\n",
    "user = data['user'],\n",
    "password = data['password'])\n",
    "\n",
    "ph.to_clickhouse(df, 'attendance', index=False, connection=connection)"
   ]
  },
  {
   "cell_type": "code",
   "execution_count": 49,
   "id": "5f7fb116-08f7-4e6d-be7d-8fa2af38792d",
   "metadata": {},
   "outputs": [
    {
     "ename": "AttributeError",
     "evalue": "module 'pandas' has no attribute 'to_sql'",
     "output_type": "error",
     "traceback": [
      "\u001b[0;31m---------------------------------------------------------------------------\u001b[0m",
      "\u001b[0;31mAttributeError\u001b[0m                            Traceback (most recent call last)",
      "Cell \u001b[0;32mIn[49], line 1\u001b[0m\n\u001b[0;32m----> 1\u001b[0m \u001b[43mpd\u001b[49m\u001b[38;5;241;43m.\u001b[39;49m\u001b[43mto_sql\u001b[49m()\n",
      "\u001b[0;31mAttributeError\u001b[0m: module 'pandas' has no attribute 'to_sql'"
     ]
    }
   ],
   "source": [
    "pd.to"
   ]
  },
  {
   "cell_type": "code",
   "execution_count": null,
   "id": "aabfa158-72c9-4b7c-add0-8ec69027042e",
   "metadata": {},
   "outputs": [],
   "source": []
  },
  {
   "cell_type": "code",
   "execution_count": null,
   "id": "d2ede485-9318-488c-9ac5-dde244bf73f7",
   "metadata": {},
   "outputs": [],
   "source": []
  }
 ],
 "metadata": {
  "kernelspec": {
   "display_name": "Python 3 (ipykernel)",
   "language": "python",
   "name": "python3"
  },
  "language_info": {
   "codemirror_mode": {
    "name": "ipython",
    "version": 3
   },
   "file_extension": ".py",
   "mimetype": "text/x-python",
   "name": "python",
   "nbconvert_exporter": "python",
   "pygments_lexer": "ipython3",
   "version": "3.10.10"
  }
 },
 "nbformat": 4,
 "nbformat_minor": 5
}
