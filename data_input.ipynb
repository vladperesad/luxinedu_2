{
 "cells": [
  {
   "cell_type": "code",
   "execution_count": 1,
   "id": "b6e5657d-d9b5-4311-b0ba-acc364493224",
   "metadata": {},
   "outputs": [],
   "source": [
    "import pandahouse as ph\n",
    "import json\n",
    "import pandas as pd\n",
    "import numpy as np"
   ]
  },
  {
   "cell_type": "code",
   "execution_count": 49,
   "id": "ed54953c-60df-4ead-847f-5fb408b76740",
   "metadata": {},
   "outputs": [],
   "source": [
    "# create three lists that will house the data\n",
    "dt = []\n",
    "st_id = []\n",
    "bk_un_lsn =[]\n",
    "bk_un_lsn_2 = []\n",
    "hwrk = []\n",
    "beh = []\n",
    "comp = []\n",
    "vocab = []\n",
    "spk = []\n",
    "rd = []\n",
    "wrt = []"
   ]
  },
  {
   "cell_type": "code",
   "execution_count": 55,
   "id": "b58fc36e-7045-42dc-85f6-f65c5da51f3c",
   "metadata": {},
   "outputs": [
    {
     "name": "stdin",
     "output_type": "stream",
     "text": [
      "Enter the date: 1990-08-25\n",
      "Enter student id: 8\n",
      "Enter book, unit and lesson: jkbj\n",
      "Enter book, unit and lesson: \n",
      "Enter homework grade: 2\n",
      "Enter behaviour grade: 5\n",
      "Enter comprehension grade: 3\n",
      "Enter vocabulary grade: 1\n",
      "Enter speaking grade: \n",
      "Enter reading grade: \n",
      "Enter writing grade: \n"
     ]
    },
    {
     "ename": "TypeError",
     "evalue": "int() argument must be a string, a bytes-like object or a real number, not 'NoneType'",
     "output_type": "error",
     "traceback": [
      "\u001b[0;31m---------------------------------------------------------------------------\u001b[0m",
      "\u001b[0;31mTypeError\u001b[0m                                 Traceback (most recent call last)",
      "Cell \u001b[0;32mIn[55], line 12\u001b[0m\n\u001b[1;32m     10\u001b[0m spk\u001b[38;5;241m.\u001b[39mappend(\u001b[38;5;28minput\u001b[39m(\u001b[38;5;124m'\u001b[39m\u001b[38;5;124mEnter speaking grade:\u001b[39m\u001b[38;5;124m'\u001b[39m) \u001b[38;5;129;01mor\u001b[39;00m np\u001b[38;5;241m.\u001b[39mnan)\n\u001b[1;32m     11\u001b[0m rd\u001b[38;5;241m.\u001b[39mappend(\u001b[38;5;28minput\u001b[39m(\u001b[38;5;124m'\u001b[39m\u001b[38;5;124mEnter reading grade:\u001b[39m\u001b[38;5;124m'\u001b[39m) \u001b[38;5;129;01mor\u001b[39;00m np\u001b[38;5;241m.\u001b[39mnan)\n\u001b[0;32m---> 12\u001b[0m wrt\u001b[38;5;241m.\u001b[39mappend(\u001b[38;5;28;43mint\u001b[39;49m\u001b[43m(\u001b[49m\u001b[38;5;28;43minput\u001b[39;49m\u001b[43m(\u001b[49m\u001b[38;5;124;43m'\u001b[39;49m\u001b[38;5;124;43mEnter writing grade:\u001b[39;49m\u001b[38;5;124;43m'\u001b[39;49m\u001b[43m)\u001b[49m\u001b[43m \u001b[49m\u001b[38;5;129;43;01mor\u001b[39;49;00m\u001b[43m \u001b[49m\u001b[38;5;28;43;01mNone\u001b[39;49;00m\u001b[43m)\u001b[49m)\n\u001b[1;32m     14\u001b[0m \u001b[38;5;66;03m# message = '''\u001b[39;00m\n\u001b[1;32m     15\u001b[0m \u001b[38;5;66;03m# date: {}\u001b[39;00m\n\u001b[1;32m     16\u001b[0m \u001b[38;5;66;03m# student_id: {}\u001b[39;00m\n\u001b[0;32m   (...)\u001b[0m\n\u001b[1;32m     36\u001b[0m \u001b[38;5;66;03m#                      reading,\u001b[39;00m\n\u001b[1;32m     37\u001b[0m \u001b[38;5;66;03m#                      writing))\u001b[39;00m\n",
      "\u001b[0;31mTypeError\u001b[0m: int() argument must be a string, a bytes-like object or a real number, not 'NoneType'"
     ]
    }
   ],
   "source": [
    "#use append to fill in each list with regarding information\n",
    "dt.append(input('Enter the date:'))\n",
    "st_id.append(int(input('Enter student id:')))\n",
    "bk_un_lsn.append(input('Enter book, unit and lesson:'))\n",
    "bk_un_lsn_2.append(input('Enter book, unit and lesson:') or np.nan)\n",
    "hwrk.append(input('Enter homework grade:') or np.nan)\n",
    "beh.append(input('Enter behaviour grade:') or np.nan)\n",
    "comp.append(input('Enter comprehension grade:') or np.nan)\n",
    "vocab.append(input('Enter vocabulary grade:') or np.nan)\n",
    "spk.append(input('Enter speaking grade:') or np.nan)\n",
    "rd.append(input('Enter reading grade:') or np.nan)\n",
    "wrt.append(input('Enter writing grade:') or None)\n",
    "\n",
    "# message = '''\n",
    "# date: {}\n",
    "# student_id: {}\n",
    "# book_unit_page: {}\n",
    "# book_unit_lesson_2: {}\n",
    "# homework: {}\n",
    "# behaviour: {}\n",
    "# comprehension: {}\n",
    "# vocabulary: {}\n",
    "# speaking: {}\n",
    "# reading: {}\n",
    "# writing: {}\n",
    "# '''\n",
    "# print(message.format(date,\n",
    "#                      student_id,\n",
    "#                      book_unit_page,\n",
    "#                      book_unit_lesson_2,\n",
    "#                      homework,\n",
    "#                      behaviour,\n",
    "#                      comprehension,\n",
    "#                      vocabulary,\n",
    "#                      speaking,\n",
    "#                      reading,\n",
    "#                      writing))"
   ]
  },
  {
   "cell_type": "code",
   "execution_count": 51,
   "id": "693036e2-656a-4569-9d6a-c1a3837dafe5",
   "metadata": {},
   "outputs": [
    {
     "data": {
      "text/html": [
       "<div>\n",
       "<style scoped>\n",
       "    .dataframe tbody tr th:only-of-type {\n",
       "        vertical-align: middle;\n",
       "    }\n",
       "\n",
       "    .dataframe tbody tr th {\n",
       "        vertical-align: top;\n",
       "    }\n",
       "\n",
       "    .dataframe thead th {\n",
       "        text-align: right;\n",
       "    }\n",
       "</style>\n",
       "<table border=\"1\" class=\"dataframe\">\n",
       "  <thead>\n",
       "    <tr style=\"text-align: right;\">\n",
       "      <th></th>\n",
       "      <th>date</th>\n",
       "      <th>student_id</th>\n",
       "      <th>book_unit_lesson</th>\n",
       "      <th>book_unit_lesson_2</th>\n",
       "      <th>homework</th>\n",
       "      <th>behaviour</th>\n",
       "      <th>comprehension</th>\n",
       "      <th>vocabulary</th>\n",
       "      <th>speaking</th>\n",
       "      <th>reading</th>\n",
       "      <th>writing</th>\n",
       "    </tr>\n",
       "  </thead>\n",
       "  <tbody>\n",
       "    <tr>\n",
       "      <th>0</th>\n",
       "      <td>1990-28-12</td>\n",
       "      <td>3</td>\n",
       "      <td>dc</td>\n",
       "      <td>NaN</td>\n",
       "      <td>0</td>\n",
       "      <td>1</td>\n",
       "      <td>2</td>\n",
       "      <td>3</td>\n",
       "      <td>4</td>\n",
       "      <td>NaN</td>\n",
       "      <td>None</td>\n",
       "    </tr>\n",
       "  </tbody>\n",
       "</table>\n",
       "</div>"
      ],
      "text/plain": [
       "         date  student_id book_unit_lesson  book_unit_lesson_2 homework  \\\n",
       "0  1990-28-12           3               dc                 NaN        0   \n",
       "\n",
       "  behaviour comprehension vocabulary speaking  reading writing  \n",
       "0         1             2          3        4      NaN    None  "
      ]
     },
     "execution_count": 51,
     "metadata": {},
     "output_type": "execute_result"
    }
   ],
   "source": [
    "# define dictionary of lists and create a dataframe \n",
    "df_structure = {'date': dt,\n",
    "                'student_id': st_id,\n",
    "                'book_unit_lesson': bk_un_lsn,\n",
    "                'book_unit_lesson_2' : bk_un_lsn_2,\n",
    "                'homework' : hwrk,\n",
    "                'behaviour' : beh,\n",
    "                'comprehension' : comp,\n",
    "                'vocabulary' : vocab,\n",
    "                'speaking' : spk,\n",
    "                'reading' : rd,\n",
    "                'writing' : wrt} \n",
    " \n",
    "df = pd.DataFrame(df_structure)\n",
    "df"
   ]
  },
  {
   "cell_type": "code",
   "execution_count": null,
   "id": "d2ede485-9318-488c-9ac5-dde244bf73f7",
   "metadata": {},
   "outputs": [],
   "source": []
  },
  {
   "cell_type": "code",
   "execution_count": 2,
   "id": "60e96639-25da-426b-888a-ba3dc637fcb5",
   "metadata": {
    "scrolled": true
   },
   "outputs": [],
   "source": [
    "with open('/home/jupyter-vladperesad/keys/clickhouse_connect_key.json') as src:\n",
    "    data = json.load(src)"
   ]
  },
  {
   "cell_type": "code",
   "execution_count": 3,
   "id": "a241e432-26ef-4a4f-a6a8-9394c7eb954a",
   "metadata": {},
   "outputs": [],
   "source": [
    "client = clickhouse_connect.get_client(host=data['host'],\n",
    "                                       port=8443,\n",
    "                                       username=data['user'],\n",
    "                                       password=data['password'])"
   ]
  }
 ],
 "metadata": {
  "kernelspec": {
   "display_name": "Python 3 (ipykernel)",
   "language": "python",
   "name": "python3"
  },
  "language_info": {
   "codemirror_mode": {
    "name": "ipython",
    "version": 3
   },
   "file_extension": ".py",
   "mimetype": "text/x-python",
   "name": "python",
   "nbconvert_exporter": "python",
   "pygments_lexer": "ipython3",
   "version": "3.10.10"
  }
 },
 "nbformat": 4,
 "nbformat_minor": 5
}
