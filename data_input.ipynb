{
 "cells": [
  {
   "cell_type": "code",
   "execution_count": 5,
   "id": "b6e5657d-d9b5-4311-b0ba-acc364493224",
   "metadata": {},
   "outputs": [],
   "source": [
    "import json\n",
    "import pandas as pd\n",
    "import numpy as np\n",
    "import clickhouse_connect"
   ]
  },
  {
   "cell_type": "code",
   "execution_count": 2,
   "id": "60e96639-25da-426b-888a-ba3dc637fcb5",
   "metadata": {
    "scrolled": true
   },
   "outputs": [],
   "source": [
    "with open('/home/jupyter-vladperesad/keys/clickhouse_connect_key.json') as src:\n",
    "    data = json.load(src)"
   ]
  },
  {
   "cell_type": "code",
   "execution_count": 3,
   "id": "a241e432-26ef-4a4f-a6a8-9394c7eb954a",
   "metadata": {},
   "outputs": [],
   "source": [
    "client = clickhouse_connect.get_client(host=data['host'],\n",
    "                                       port=8443,\n",
    "                                       username=data['user'],\n",
    "                                       password=data['password'])"
   ]
  },
  {
   "cell_type": "code",
   "execution_count": 6,
   "id": "ed54953c-60df-4ead-847f-5fb408b76740",
   "metadata": {},
   "outputs": [],
   "source": [
    "# create three lists that will house the data\n",
    "dt = []\n",
    "st_id = []\n",
    "bk_un_lsn =[]\n",
    "bk_un_lsn_2 = []\n",
    "hwrk = []\n",
    "beh = []\n",
    "comp = []\n",
    "vocab = []\n",
    "spk = []\n",
    "rd = []\n",
    "wrt = []"
   ]
  },
  {
   "cell_type": "code",
   "execution_count": 7,
   "id": "b58fc36e-7045-42dc-85f6-f65c5da51f3c",
   "metadata": {},
   "outputs": [
    {
     "name": "stdin",
     "output_type": "stream",
     "text": [
      "Enter the date: 2024-04-10\n",
      "Enter student id: 2\n",
      "Enter book, unit and lesson: HC1U7L7\n",
      "Enter book, unit and lesson: HC1U7L8\n",
      "Enter homework grade: 5\n",
      "Enter behaviour grade: 2\n",
      "Enter comprehension grade: 3\n",
      "Enter vocabulary grade: 3\n",
      "Enter speaking grade: 5\n",
      "Enter reading grade: 1\n",
      "Enter writing grade: 2\n"
     ]
    }
   ],
   "source": [
    "#use append to fill in each list with regarding information\n",
    "dt.append(input('Enter the date:'))\n",
    "st_id.append(int(input('Enter student id:')))\n",
    "bk_un_lsn.append(input('Enter book, unit and lesson:'))\n",
    "bk_un_lsn_2.append(input('Enter book, unit and lesson:') or None)\n",
    "hwrk.append(input('Enter homework grade:') or None)\n",
    "beh.append(input('Enter behaviour grade:') or None)\n",
    "comp.append(input('Enter comprehension grade:') or None)\n",
    "vocab.append(input('Enter vocabulary grade:') or None)\n",
    "spk.append(input('Enter speaking grade:') or None)\n",
    "rd.append(input('Enter reading grade:') or None)\n",
    "wrt.append(input('Enter writing grade:') or None)"
   ]
  },
  {
   "cell_type": "code",
   "execution_count": 8,
   "id": "693036e2-656a-4569-9d6a-c1a3837dafe5",
   "metadata": {},
   "outputs": [],
   "source": [
    "# define dictionary of lists and create a dataframe \n",
    "df_structure = {'date': dt,\n",
    "                'student_id': st_id,\n",
    "                'book_unit_lesson': bk_un_lsn,\n",
    "                'book_unit_lesson_2' : bk_un_lsn_2,\n",
    "                'homework' : hwrk,\n",
    "                'behaviour' : beh,\n",
    "                'comprehension' : comp,\n",
    "                'vocabulary' : vocab,\n",
    "                'speaking' : spk,\n",
    "                'reading' : rd,\n",
    "                'writing' : wrt} \n",
    "     \n",
    "df = pd.DataFrame(df_structure)\n",
    "df['date'] = pd.to_datetime(df['date'])"
   ]
  },
  {
   "cell_type": "code",
   "execution_count": 11,
   "id": "d2ede485-9318-488c-9ac5-dde244bf73f7",
   "metadata": {},
   "outputs": [
    {
     "data": {
      "text/plain": [
       "<clickhouse_connect.driver.summary.QuerySummary at 0x7f5507b0ba60>"
      ]
     },
     "execution_count": 11,
     "metadata": {},
     "output_type": "execute_result"
    }
   ],
   "source": [
    "client.insert_df('luxinedu_2.attendance', df)"
   ]
  }
 ],
 "metadata": {
  "kernelspec": {
   "display_name": "Python 3 (ipykernel)",
   "language": "python",
   "name": "python3"
  },
  "language_info": {
   "codemirror_mode": {
    "name": "ipython",
    "version": 3
   },
   "file_extension": ".py",
   "mimetype": "text/x-python",
   "name": "python",
   "nbconvert_exporter": "python",
   "pygments_lexer": "ipython3",
   "version": "3.11.6"
  }
 },
 "nbformat": 4,
 "nbformat_minor": 5
}
